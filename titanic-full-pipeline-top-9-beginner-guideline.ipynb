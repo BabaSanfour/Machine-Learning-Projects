{
 "cells": [
  {
   "cell_type": "markdown",
   "id": "solved-hands",
   "metadata": {
    "papermill": {
     "duration": 0.04097,
     "end_time": "2021-04-17T23:18:57.456871",
     "exception": false,
     "start_time": "2021-04-17T23:18:57.415901",
     "status": "completed"
    },
    "tags": []
   },
   "source": [
    "# **Introduction**\n",
    "Hello, \n",
    "In this notebook you will find a simple approach to tackle the famous Titanic disaster machine learning. It will include a full pipeline for data cleaning, feature engineering, modeling and paramaters tunning. I didn't focus on EDA because my main goal was to focus on feature engineering and classification task."
   ]
  },
  {
   "cell_type": "markdown",
   "id": "paperback-dispatch",
   "metadata": {
    "papermill": {
     "duration": 0.038209,
     "end_time": "2021-04-17T23:18:57.534147",
     "exception": false,
     "start_time": "2021-04-17T23:18:57.495938",
     "status": "completed"
    },
    "tags": []
   },
   "source": [
    "# **Table of contents:** \n",
    "\n",
    "1. Loading data and some EDA\n",
    "\n",
    "2. Data Processing\n",
    "\n",
    "    2.1 Data cleaning: Dealing with null values\n",
    "\n",
    "    2.2 Feature engineering and encoding\n",
    "\n",
    "    2.3 Data Processing Pipeline\n",
    "\n",
    "3. Modeling\n",
    "\n",
    "    3.1 Evaluating models and making a choice\n",
    "\n",
    "    3.2 Hyper paramater tuning and combining models\n",
    "\n",
    "4. Submitting results"
   ]
  },
  {
   "cell_type": "code",
   "execution_count": 1,
   "id": "consistent-resistance",
   "metadata": {
    "execution": {
     "iopub.execute_input": "2021-04-17T23:18:57.616208Z",
     "iopub.status.busy": "2021-04-17T23:18:57.614953Z",
     "iopub.status.idle": "2021-04-17T23:18:59.181874Z",
     "shell.execute_reply": "2021-04-17T23:18:59.180907Z"
    },
    "papermill": {
     "duration": 1.609242,
     "end_time": "2021-04-17T23:18:59.182052",
     "exception": false,
     "start_time": "2021-04-17T23:18:57.572810",
     "status": "completed"
    },
    "tags": []
   },
   "outputs": [],
   "source": [
    "# setting up the libraries that we will need \n",
    "import numpy as np\n",
    "import pandas as pd \n",
    "import seaborn as sns\n",
    "\n",
    "\n",
    "from sklearn.base import BaseEstimator, TransformerMixin\n",
    "from sklearn.pipeline import Pipeline, FeatureUnion\n",
    "from sklearn.impute import SimpleImputer\n",
    "from sklearn.preprocessing import OneHotEncoder, OrdinalEncoder, LabelEncoder\n",
    "from sklearn.model_selection import cross_val_score\n",
    "from sklearn.ensemble import RandomForestClassifier\n",
    "import matplotlib.pyplot as plt"
   ]
  },
  {
   "cell_type": "markdown",
   "id": "aggregate-customs",
   "metadata": {
    "papermill": {
     "duration": 0.03728,
     "end_time": "2021-04-17T23:18:59.258682",
     "exception": false,
     "start_time": "2021-04-17T23:18:59.221402",
     "status": "completed"
    },
    "tags": []
   },
   "source": [
    "## **1. Loading data and some EDA:**"
   ]
  },
  {
   "cell_type": "code",
   "execution_count": 2,
   "id": "arranged-democracy",
   "metadata": {
    "execution": {
     "iopub.execute_input": "2021-04-17T23:18:59.350911Z",
     "iopub.status.busy": "2021-04-17T23:18:59.349797Z",
     "iopub.status.idle": "2021-04-17T23:18:59.400489Z",
     "shell.execute_reply": "2021-04-17T23:18:59.399646Z"
    },
    "papermill": {
     "duration": 0.1,
     "end_time": "2021-04-17T23:18:59.400722",
     "exception": false,
     "start_time": "2021-04-17T23:18:59.300722",
     "status": "completed"
    },
    "tags": []
   },
   "outputs": [],
   "source": [
    "# loading the data\n",
    "train = pd.read_csv(\"../input/titanic/train.csv\")\n",
    "test = pd.read_csv(\"../input/titanic/test.csv\")\n",
    "sub = pd.read_csv(\"../input/titanic/gender_submission.csv\")"
   ]
  },
  {
   "cell_type": "code",
   "execution_count": 3,
   "id": "binding-persian",
   "metadata": {
    "execution": {
     "iopub.execute_input": "2021-04-17T23:18:59.496850Z",
     "iopub.status.busy": "2021-04-17T23:18:59.496111Z",
     "iopub.status.idle": "2021-04-17T23:18:59.521899Z",
     "shell.execute_reply": "2021-04-17T23:18:59.522413Z"
    },
    "papermill": {
     "duration": 0.078593,
     "end_time": "2021-04-17T23:18:59.522588",
     "exception": false,
     "start_time": "2021-04-17T23:18:59.443995",
     "status": "completed"
    },
    "tags": []
   },
   "outputs": [
    {
     "data": {
      "text/html": [
       "<div>\n",
       "<style scoped>\n",
       "    .dataframe tbody tr th:only-of-type {\n",
       "        vertical-align: middle;\n",
       "    }\n",
       "\n",
       "    .dataframe tbody tr th {\n",
       "        vertical-align: top;\n",
       "    }\n",
       "\n",
       "    .dataframe thead th {\n",
       "        text-align: right;\n",
       "    }\n",
       "</style>\n",
       "<table border=\"1\" class=\"dataframe\">\n",
       "  <thead>\n",
       "    <tr style=\"text-align: right;\">\n",
       "      <th></th>\n",
       "      <th>PassengerId</th>\n",
       "      <th>Survived</th>\n",
       "      <th>Pclass</th>\n",
       "      <th>Name</th>\n",
       "      <th>Sex</th>\n",
       "      <th>Age</th>\n",
       "      <th>SibSp</th>\n",
       "      <th>Parch</th>\n",
       "      <th>Ticket</th>\n",
       "      <th>Fare</th>\n",
       "      <th>Cabin</th>\n",
       "      <th>Embarked</th>\n",
       "    </tr>\n",
       "  </thead>\n",
       "  <tbody>\n",
       "    <tr>\n",
       "      <th>0</th>\n",
       "      <td>1</td>\n",
       "      <td>0</td>\n",
       "      <td>3</td>\n",
       "      <td>Braund, Mr. Owen Harris</td>\n",
       "      <td>male</td>\n",
       "      <td>22.0</td>\n",
       "      <td>1</td>\n",
       "      <td>0</td>\n",
       "      <td>A/5 21171</td>\n",
       "      <td>7.2500</td>\n",
       "      <td>NaN</td>\n",
       "      <td>S</td>\n",
       "    </tr>\n",
       "    <tr>\n",
       "      <th>1</th>\n",
       "      <td>2</td>\n",
       "      <td>1</td>\n",
       "      <td>1</td>\n",
       "      <td>Cumings, Mrs. John Bradley (Florence Briggs Th...</td>\n",
       "      <td>female</td>\n",
       "      <td>38.0</td>\n",
       "      <td>1</td>\n",
       "      <td>0</td>\n",
       "      <td>PC 17599</td>\n",
       "      <td>71.2833</td>\n",
       "      <td>C85</td>\n",
       "      <td>C</td>\n",
       "    </tr>\n",
       "    <tr>\n",
       "      <th>2</th>\n",
       "      <td>3</td>\n",
       "      <td>1</td>\n",
       "      <td>3</td>\n",
       "      <td>Heikkinen, Miss. Laina</td>\n",
       "      <td>female</td>\n",
       "      <td>26.0</td>\n",
       "      <td>0</td>\n",
       "      <td>0</td>\n",
       "      <td>STON/O2. 3101282</td>\n",
       "      <td>7.9250</td>\n",
       "      <td>NaN</td>\n",
       "      <td>S</td>\n",
       "    </tr>\n",
       "    <tr>\n",
       "      <th>3</th>\n",
       "      <td>4</td>\n",
       "      <td>1</td>\n",
       "      <td>1</td>\n",
       "      <td>Futrelle, Mrs. Jacques Heath (Lily May Peel)</td>\n",
       "      <td>female</td>\n",
       "      <td>35.0</td>\n",
       "      <td>1</td>\n",
       "      <td>0</td>\n",
       "      <td>113803</td>\n",
       "      <td>53.1000</td>\n",
       "      <td>C123</td>\n",
       "      <td>S</td>\n",
       "    </tr>\n",
       "    <tr>\n",
       "      <th>4</th>\n",
       "      <td>5</td>\n",
       "      <td>0</td>\n",
       "      <td>3</td>\n",
       "      <td>Allen, Mr. William Henry</td>\n",
       "      <td>male</td>\n",
       "      <td>35.0</td>\n",
       "      <td>0</td>\n",
       "      <td>0</td>\n",
       "      <td>373450</td>\n",
       "      <td>8.0500</td>\n",
       "      <td>NaN</td>\n",
       "      <td>S</td>\n",
       "    </tr>\n",
       "  </tbody>\n",
       "</table>\n",
       "</div>"
      ],
      "text/plain": [
       "   PassengerId  Survived  Pclass  \\\n",
       "0            1         0       3   \n",
       "1            2         1       1   \n",
       "2            3         1       3   \n",
       "3            4         1       1   \n",
       "4            5         0       3   \n",
       "\n",
       "                                                Name     Sex   Age  SibSp  \\\n",
       "0                            Braund, Mr. Owen Harris    male  22.0      1   \n",
       "1  Cumings, Mrs. John Bradley (Florence Briggs Th...  female  38.0      1   \n",
       "2                             Heikkinen, Miss. Laina  female  26.0      0   \n",
       "3       Futrelle, Mrs. Jacques Heath (Lily May Peel)  female  35.0      1   \n",
       "4                           Allen, Mr. William Henry    male  35.0      0   \n",
       "\n",
       "   Parch            Ticket     Fare Cabin Embarked  \n",
       "0      0         A/5 21171   7.2500   NaN        S  \n",
       "1      0          PC 17599  71.2833   C85        C  \n",
       "2      0  STON/O2. 3101282   7.9250   NaN        S  \n",
       "3      0            113803  53.1000  C123        S  \n",
       "4      0            373450   8.0500   NaN        S  "
      ]
     },
     "execution_count": 3,
     "metadata": {},
     "output_type": "execute_result"
    }
   ],
   "source": [
    "#data exploration\n",
    "train.head()"
   ]
  },
  {
   "cell_type": "code",
   "execution_count": 4,
   "id": "orange-asian",
   "metadata": {
    "execution": {
     "iopub.execute_input": "2021-04-17T23:18:59.615126Z",
     "iopub.status.busy": "2021-04-17T23:18:59.614370Z",
     "iopub.status.idle": "2021-04-17T23:18:59.654361Z",
     "shell.execute_reply": "2021-04-17T23:18:59.653750Z"
    },
    "papermill": {
     "duration": 0.091783,
     "end_time": "2021-04-17T23:18:59.654519",
     "exception": false,
     "start_time": "2021-04-17T23:18:59.562736",
     "status": "completed"
    },
    "tags": []
   },
   "outputs": [
    {
     "data": {
      "text/html": [
       "<div>\n",
       "<style scoped>\n",
       "    .dataframe tbody tr th:only-of-type {\n",
       "        vertical-align: middle;\n",
       "    }\n",
       "\n",
       "    .dataframe tbody tr th {\n",
       "        vertical-align: top;\n",
       "    }\n",
       "\n",
       "    .dataframe thead th {\n",
       "        text-align: right;\n",
       "    }\n",
       "</style>\n",
       "<table border=\"1\" class=\"dataframe\">\n",
       "  <thead>\n",
       "    <tr style=\"text-align: right;\">\n",
       "      <th></th>\n",
       "      <th>Name</th>\n",
       "      <th>Sex</th>\n",
       "      <th>Ticket</th>\n",
       "      <th>Cabin</th>\n",
       "      <th>Embarked</th>\n",
       "    </tr>\n",
       "  </thead>\n",
       "  <tbody>\n",
       "    <tr>\n",
       "      <th>count</th>\n",
       "      <td>891</td>\n",
       "      <td>891</td>\n",
       "      <td>891</td>\n",
       "      <td>204</td>\n",
       "      <td>889</td>\n",
       "    </tr>\n",
       "    <tr>\n",
       "      <th>unique</th>\n",
       "      <td>891</td>\n",
       "      <td>2</td>\n",
       "      <td>681</td>\n",
       "      <td>147</td>\n",
       "      <td>3</td>\n",
       "    </tr>\n",
       "    <tr>\n",
       "      <th>top</th>\n",
       "      <td>Harris, Mr. Walter</td>\n",
       "      <td>male</td>\n",
       "      <td>1601</td>\n",
       "      <td>C23 C25 C27</td>\n",
       "      <td>S</td>\n",
       "    </tr>\n",
       "    <tr>\n",
       "      <th>freq</th>\n",
       "      <td>1</td>\n",
       "      <td>577</td>\n",
       "      <td>7</td>\n",
       "      <td>4</td>\n",
       "      <td>644</td>\n",
       "    </tr>\n",
       "  </tbody>\n",
       "</table>\n",
       "</div>"
      ],
      "text/plain": [
       "                      Name   Sex Ticket        Cabin Embarked\n",
       "count                  891   891    891          204      889\n",
       "unique                 891     2    681          147        3\n",
       "top     Harris, Mr. Walter  male   1601  C23 C25 C27        S\n",
       "freq                     1   577      7            4      644"
      ]
     },
     "execution_count": 4,
     "metadata": {},
     "output_type": "execute_result"
    }
   ],
   "source": [
    "train.select_dtypes(include = ['object']).describe()"
   ]
  },
  {
   "cell_type": "markdown",
   "id": "narrow-precipitation",
   "metadata": {
    "papermill": {
     "duration": 0.038702,
     "end_time": "2021-04-17T23:18:59.733834",
     "exception": false,
     "start_time": "2021-04-17T23:18:59.695132",
     "status": "completed"
    },
    "tags": []
   },
   "source": [
    "The attributes have the following meaning:\n",
    "* **Survived**: that's the target, 0 means the passenger did not survive, while 1 means he/she survived.\n",
    "* **Pclass**: passenger class.\n",
    "* **Name**, **Sex**, **Age**: self-explanatory\n",
    "* **SibSp**: how many siblings & spouses of the passenger aboard the Titanic.\n",
    "* **Parch**: how many children & parents of the passenger aboard the Titanic.\n",
    "* **Ticket**: ticket id\n",
    "* **Fare**: price paid (in pounds)\n",
    "* **Cabin**: passenger's cabin number\n",
    "* **Embarked**: where the passenger embarked the Titanic"
   ]
  },
  {
   "cell_type": "code",
   "execution_count": 5,
   "id": "stupid-parts",
   "metadata": {
    "execution": {
     "iopub.execute_input": "2021-04-17T23:18:59.830994Z",
     "iopub.status.busy": "2021-04-17T23:18:59.830194Z",
     "iopub.status.idle": "2021-04-17T23:18:59.834927Z",
     "shell.execute_reply": "2021-04-17T23:18:59.834143Z"
    },
    "papermill": {
     "duration": 0.061302,
     "end_time": "2021-04-17T23:18:59.835083",
     "exception": false,
     "start_time": "2021-04-17T23:18:59.773781",
     "status": "completed"
    },
    "tags": []
   },
   "outputs": [
    {
     "name": "stdout",
     "output_type": "stream",
     "text": [
      "<class 'pandas.core.frame.DataFrame'>\n",
      "RangeIndex: 891 entries, 0 to 890\n",
      "Data columns (total 12 columns):\n",
      " #   Column       Non-Null Count  Dtype  \n",
      "---  ------       --------------  -----  \n",
      " 0   PassengerId  891 non-null    int64  \n",
      " 1   Survived     891 non-null    int64  \n",
      " 2   Pclass       891 non-null    int64  \n",
      " 3   Name         891 non-null    object \n",
      " 4   Sex          891 non-null    object \n",
      " 5   Age          714 non-null    float64\n",
      " 6   SibSp        891 non-null    int64  \n",
      " 7   Parch        891 non-null    int64  \n",
      " 8   Ticket       891 non-null    object \n",
      " 9   Fare         891 non-null    float64\n",
      " 10  Cabin        204 non-null    object \n",
      " 11  Embarked     889 non-null    object \n",
      "dtypes: float64(2), int64(5), object(5)\n",
      "memory usage: 83.7+ KB\n"
     ]
    }
   ],
   "source": [
    "train.info()"
   ]
  },
  {
   "cell_type": "code",
   "execution_count": 6,
   "id": "noticed-miracle",
   "metadata": {
    "execution": {
     "iopub.execute_input": "2021-04-17T23:18:59.919968Z",
     "iopub.status.busy": "2021-04-17T23:18:59.919284Z",
     "iopub.status.idle": "2021-04-17T23:18:59.933209Z",
     "shell.execute_reply": "2021-04-17T23:18:59.933804Z"
    },
    "papermill": {
     "duration": 0.057645,
     "end_time": "2021-04-17T23:18:59.933979",
     "exception": false,
     "start_time": "2021-04-17T23:18:59.876334",
     "status": "completed"
    },
    "tags": []
   },
   "outputs": [
    {
     "name": "stdout",
     "output_type": "stream",
     "text": [
      "<class 'pandas.core.frame.DataFrame'>\n",
      "RangeIndex: 418 entries, 0 to 417\n",
      "Data columns (total 11 columns):\n",
      " #   Column       Non-Null Count  Dtype  \n",
      "---  ------       --------------  -----  \n",
      " 0   PassengerId  418 non-null    int64  \n",
      " 1   Pclass       418 non-null    int64  \n",
      " 2   Name         418 non-null    object \n",
      " 3   Sex          418 non-null    object \n",
      " 4   Age          332 non-null    float64\n",
      " 5   SibSp        418 non-null    int64  \n",
      " 6   Parch        418 non-null    int64  \n",
      " 7   Ticket       418 non-null    object \n",
      " 8   Fare         417 non-null    float64\n",
      " 9   Cabin        91 non-null     object \n",
      " 10  Embarked     418 non-null    object \n",
      "dtypes: float64(2), int64(4), object(5)\n",
      "memory usage: 36.0+ KB\n"
     ]
    }
   ],
   "source": [
    "test.info()"
   ]
  },
  {
   "cell_type": "markdown",
   "id": "corresponding-professor",
   "metadata": {
    "papermill": {
     "duration": 0.041823,
     "end_time": "2021-04-17T23:19:00.015986",
     "exception": false,
     "start_time": "2021-04-17T23:18:59.974163",
     "status": "completed"
    },
    "tags": []
   },
   "source": [
    "* Training set have missing values in Age, Cabin and Embarked columns\n",
    "* Test set have missing values in Age, Cabin and Fare columns"
   ]
  },
  {
   "cell_type": "code",
   "execution_count": 7,
   "id": "gorgeous-stylus",
   "metadata": {
    "execution": {
     "iopub.execute_input": "2021-04-17T23:19:00.103517Z",
     "iopub.status.busy": "2021-04-17T23:19:00.102681Z",
     "iopub.status.idle": "2021-04-17T23:19:00.111609Z",
     "shell.execute_reply": "2021-04-17T23:19:00.111057Z"
    },
    "papermill": {
     "duration": 0.05437,
     "end_time": "2021-04-17T23:19:00.111782",
     "exception": false,
     "start_time": "2021-04-17T23:19:00.057412",
     "status": "completed"
    },
    "tags": []
   },
   "outputs": [
    {
     "name": "stdout",
     "output_type": "stream",
     "text": [
      "Only 38% of passengers have survived\n"
     ]
    }
   ],
   "source": [
    "print('Only {0:.0f}% of passengers have survived'.format(train[\"Survived\"].value_counts(1)[1]*100))"
   ]
  },
  {
   "cell_type": "code",
   "execution_count": 8,
   "id": "talented-mounting",
   "metadata": {
    "execution": {
     "iopub.execute_input": "2021-04-17T23:19:00.199508Z",
     "iopub.status.busy": "2021-04-17T23:19:00.198804Z",
     "iopub.status.idle": "2021-04-17T23:19:00.202677Z",
     "shell.execute_reply": "2021-04-17T23:19:00.202008Z"
    },
    "papermill": {
     "duration": 0.049985,
     "end_time": "2021-04-17T23:19:00.202833",
     "exception": false,
     "start_time": "2021-04-17T23:19:00.152848",
     "status": "completed"
    },
    "tags": []
   },
   "outputs": [],
   "source": [
    "train_copy = train.copy()\n",
    "test_copy = test.copy()"
   ]
  },
  {
   "cell_type": "code",
   "execution_count": 9,
   "id": "reduced-invalid",
   "metadata": {
    "execution": {
     "iopub.execute_input": "2021-04-17T23:19:00.294072Z",
     "iopub.status.busy": "2021-04-17T23:19:00.292893Z",
     "iopub.status.idle": "2021-04-17T23:19:00.301684Z",
     "shell.execute_reply": "2021-04-17T23:19:00.300510Z"
    },
    "papermill": {
     "duration": 0.058219,
     "end_time": "2021-04-17T23:19:00.301995",
     "exception": false,
     "start_time": "2021-04-17T23:19:00.243776",
     "status": "completed"
    },
    "tags": []
   },
   "outputs": [
    {
     "name": "stdout",
     "output_type": "stream",
     "text": [
      "Survived       1.000000\n",
      "Fare           0.257307\n",
      "Parch          0.081629\n",
      "PassengerId   -0.005007\n",
      "SibSp         -0.035322\n",
      "Age           -0.077221\n",
      "Pclass        -0.338481\n",
      "Name: Survived, dtype: float64\n"
     ]
    }
   ],
   "source": [
    "def corr(x):\n",
    "    corr_matrix = x.corr()\n",
    "    c= corr_matrix[\"Survived\"].sort_values(ascending=False)\n",
    "    print(c)\n",
    "corr(train_copy)"
   ]
  },
  {
   "cell_type": "markdown",
   "id": "celtic-diary",
   "metadata": {
    "papermill": {
     "duration": 0.040992,
     "end_time": "2021-04-17T23:19:00.385834",
     "exception": false,
     "start_time": "2021-04-17T23:19:00.344842",
     "status": "completed"
    },
    "tags": []
   },
   "source": [
    "### Parch and SibSp attribute"
   ]
  },
  {
   "cell_type": "code",
   "execution_count": 10,
   "id": "curious-rapid",
   "metadata": {
    "execution": {
     "iopub.execute_input": "2021-04-17T23:19:00.477485Z",
     "iopub.status.busy": "2021-04-17T23:19:00.476698Z",
     "iopub.status.idle": "2021-04-17T23:19:00.479685Z",
     "shell.execute_reply": "2021-04-17T23:19:00.480322Z"
    },
    "papermill": {
     "duration": 0.053073,
     "end_time": "2021-04-17T23:19:00.480503",
     "exception": false,
     "start_time": "2021-04-17T23:19:00.427430",
     "status": "completed"
    },
    "tags": []
   },
   "outputs": [
    {
     "name": "stdout",
     "output_type": "stream",
     "text": [
      "76.09% of Parch values are 0\n",
      "68.24% of SibSp vales are 0\n"
     ]
    }
   ],
   "source": [
    "print('{0:.2f}% of Parch values are 0'.format(train.Parch.value_counts(1)[0]*100))\n",
    "print('{0:.2f}% of SibSp vales are 0'.format(train.SibSp.value_counts(1)[0]*100))"
   ]
  },
  {
   "cell_type": "markdown",
   "id": "statistical-faith",
   "metadata": {
    "papermill": {
     "duration": 0.042173,
     "end_time": "2021-04-17T23:19:00.565746",
     "exception": false,
     "start_time": "2021-04-17T23:19:00.523573",
     "status": "completed"
    },
    "tags": []
   },
   "source": [
    "Most of Parch and SibSp values are 0 and they are not highly correlated with the target. On their own they don't give an important information. However, if we combine them we can create a new attribute called \"Family Size\" with 3 catergories: Small, Medium and Large. We can also add Alone category if the passenger has no family onboard the ship."
   ]
  },
  {
   "cell_type": "markdown",
   "id": "cathedral-helen",
   "metadata": {
    "papermill": {
     "duration": 0.042258,
     "end_time": "2021-04-17T23:19:00.650778",
     "exception": false,
     "start_time": "2021-04-17T23:19:00.608520",
     "status": "completed"
    },
    "tags": []
   },
   "source": [
    "### Cabin Attribute\n"
   ]
  },
  {
   "cell_type": "code",
   "execution_count": 11,
   "id": "dominant-sleeve",
   "metadata": {
    "execution": {
     "iopub.execute_input": "2021-04-17T23:19:00.739831Z",
     "iopub.status.busy": "2021-04-17T23:19:00.739153Z",
     "iopub.status.idle": "2021-04-17T23:19:00.748906Z",
     "shell.execute_reply": "2021-04-17T23:19:00.748195Z"
    },
    "papermill": {
     "duration": 0.054977,
     "end_time": "2021-04-17T23:19:00.749053",
     "exception": false,
     "start_time": "2021-04-17T23:19:00.694076",
     "status": "completed"
    },
    "tags": []
   },
   "outputs": [
    {
     "name": "stdout",
     "output_type": "stream",
     "text": [
      "77% of Cabin attribute in values are missing in training data\n",
      "78% of Cabin attribute in values are missing in test data\n"
     ]
    }
   ],
   "source": [
    "print('{0:.0f}% of Cabin attribute in values are missing in training data'.format(train['Cabin'].isnull().value_counts(1)[1]*100))\n",
    "print('{0:.0f}% of Cabin attribute in values are missing in test data'.format(test['Cabin'].isnull().value_counts(1)[1]*100))"
   ]
  },
  {
   "cell_type": "markdown",
   "id": "departmental-comparison",
   "metadata": {
    "papermill": {
     "duration": 0.042645,
     "end_time": "2021-04-17T23:19:00.835160",
     "exception": false,
     "start_time": "2021-04-17T23:19:00.792515",
     "status": "completed"
    },
    "tags": []
   },
   "source": [
    "* Its true that most of Cabin attribute are missing values but we can't drop this feature because some of the cabins have more survival rate than others, for example these who are close to surface.\n",
    "* After some research, tt turns out to be that the first letter of the Cabin values are the decks in which the cabins are located. So we will change the cabin attribute with a deck attribute and explore further this new feature\n"
   ]
  },
  {
   "cell_type": "code",
   "execution_count": 12,
   "id": "returning-exposure",
   "metadata": {
    "execution": {
     "iopub.execute_input": "2021-04-17T23:19:00.931881Z",
     "iopub.status.busy": "2021-04-17T23:19:00.931175Z",
     "iopub.status.idle": "2021-04-17T23:19:00.935062Z",
     "shell.execute_reply": "2021-04-17T23:19:00.934401Z"
    },
    "papermill": {
     "duration": 0.057619,
     "end_time": "2021-04-17T23:19:00.935207",
     "exception": false,
     "start_time": "2021-04-17T23:19:00.877588",
     "status": "completed"
    },
    "tags": []
   },
   "outputs": [],
   "source": [
    "train_copy[\"deck\"] = pd.Series([i[0] if not pd.isnull(i) else 'X' for i in train_copy['Cabin'] ])\n",
    "test_copy[\"deck\"] = pd.Series([i[0] if not pd.isnull(i) else 'X' for i in test_copy['Cabin'] ])"
   ]
  },
  {
   "cell_type": "code",
   "execution_count": 13,
   "id": "centered-waters",
   "metadata": {
    "execution": {
     "iopub.execute_input": "2021-04-17T23:19:01.033723Z",
     "iopub.status.busy": "2021-04-17T23:19:01.032727Z",
     "iopub.status.idle": "2021-04-17T23:19:01.038539Z",
     "shell.execute_reply": "2021-04-17T23:19:01.039118Z"
    },
    "papermill": {
     "duration": 0.060821,
     "end_time": "2021-04-17T23:19:01.039304",
     "exception": false,
     "start_time": "2021-04-17T23:19:00.978483",
     "status": "completed"
    },
    "tags": []
   },
   "outputs": [
    {
     "data": {
      "text/plain": [
       "deck  Pclass\n",
       "A     1          15\n",
       "B     1          47\n",
       "C     1          59\n",
       "D     1          29\n",
       "      2           4\n",
       "E     1          25\n",
       "      2           4\n",
       "      3           3\n",
       "F     2           8\n",
       "      3           5\n",
       "G     3           4\n",
       "T     1           1\n",
       "X     1          40\n",
       "      2         168\n",
       "      3         479\n",
       "Name: deck, dtype: int64"
      ]
     },
     "execution_count": 13,
     "metadata": {},
     "output_type": "execute_result"
    }
   ],
   "source": [
    "train_copy.groupby(['deck','Pclass'])['deck'].count()"
   ]
  },
  {
   "cell_type": "code",
   "execution_count": 14,
   "id": "patient-adams",
   "metadata": {
    "execution": {
     "iopub.execute_input": "2021-04-17T23:19:01.131102Z",
     "iopub.status.busy": "2021-04-17T23:19:01.130131Z",
     "iopub.status.idle": "2021-04-17T23:19:01.139847Z",
     "shell.execute_reply": "2021-04-17T23:19:01.140405Z"
    },
    "papermill": {
     "duration": 0.058032,
     "end_time": "2021-04-17T23:19:01.140576",
     "exception": false,
     "start_time": "2021-04-17T23:19:01.082544",
     "status": "completed"
    },
    "tags": []
   },
   "outputs": [
    {
     "data": {
      "text/plain": [
       "deck  Pclass\n",
       "A     1           7\n",
       "B     1          18\n",
       "C     1          35\n",
       "D     1          11\n",
       "      2           2\n",
       "E     1           9\n",
       "F     2           5\n",
       "      3           3\n",
       "G     3           1\n",
       "X     1          27\n",
       "      2          86\n",
       "      3         214\n",
       "Name: deck, dtype: int64"
      ]
     },
     "execution_count": 14,
     "metadata": {},
     "output_type": "execute_result"
    }
   ],
   "source": [
    "test_copy.groupby(['deck','Pclass'])['deck'].count()"
   ]
  },
  {
   "cell_type": "markdown",
   "id": "dental-capacity",
   "metadata": {
    "papermill": {
     "duration": 0.04292,
     "end_time": "2021-04-17T23:19:01.227388",
     "exception": false,
     "start_time": "2021-04-17T23:19:01.184468",
     "status": "completed"
    },
    "tags": []
   },
   "source": [
    "If you watched the movie then you know that decks were separated and some of them were meant to be used by 1 passenger class. However some of the decks were used by multiple class:\n",
    "* A, B and C decks: only for 1st class passengers\n",
    "* D and E: for all classes\n",
    "* F and G decks: for both 2nd and 3rd class passengers\n",
    "* Passengers labeled as X are the missing values in Cabin feature. I don't think it is possible to find those passengers' real Deck."
   ]
  },
  {
   "cell_type": "markdown",
   "id": "biological-communist",
   "metadata": {
    "papermill": {
     "duration": 0.042527,
     "end_time": "2021-04-17T23:19:01.313148",
     "exception": false,
     "start_time": "2021-04-17T23:19:01.270621",
     "status": "completed"
    },
    "tags": []
   },
   "source": [
    "### Age"
   ]
  },
  {
   "cell_type": "code",
   "execution_count": 15,
   "id": "premier-civilian",
   "metadata": {
    "execution": {
     "iopub.execute_input": "2021-04-17T23:19:01.424712Z",
     "iopub.status.busy": "2021-04-17T23:19:01.423986Z",
     "iopub.status.idle": "2021-04-17T23:19:01.868844Z",
     "shell.execute_reply": "2021-04-17T23:19:01.869332Z"
    },
    "papermill": {
     "duration": 0.512751,
     "end_time": "2021-04-17T23:19:01.869514",
     "exception": false,
     "start_time": "2021-04-17T23:19:01.356763",
     "status": "completed"
    },
    "tags": []
   },
   "outputs": [
    {
     "data": {
      "image/png": "[encoded data removed]",
      "text/plain": [
       "<Figure size 432x216 with 2 Axes>"
      ]
     },
     "metadata": {
      "needs_background": "light"
     },
     "output_type": "display_data"
    }
   ],
   "source": [
    "g = sns.FacetGrid(train, col='Survived')\n",
    "g = g.map(sns.histplot, \"Age\")"
   ]
  },
  {
   "cell_type": "markdown",
   "id": "instrumental-holmes",
   "metadata": {
    "papermill": {
     "duration": 0.043386,
     "end_time": "2021-04-17T23:19:01.956798",
     "exception": false,
     "start_time": "2021-04-17T23:19:01.913412",
     "status": "completed"
    },
    "tags": []
   },
   "source": [
    "* Age distribution seems to be a gaussian distribution. We can notice that Age distribution are not the same in the survived and not survived subpopulation: Those who are between 60 and 80 are less likely to survive, and childrens and young passengers have higher chances of survival. \n",
    "* Transforming the age feature into categories seems better than using the age of each person because some there is some age categories that have high or less chance of surviving."
   ]
  },
  {
   "cell_type": "markdown",
   "id": "cloudy-canadian",
   "metadata": {
    "papermill": {
     "duration": 0.044464,
     "end_time": "2021-04-17T23:19:02.045051",
     "exception": false,
     "start_time": "2021-04-17T23:19:02.000587",
     "status": "completed"
    },
    "tags": []
   },
   "source": [
    "### Fare and Embarked"
   ]
  },
  {
   "cell_type": "code",
   "execution_count": 16,
   "id": "weekly-wedding",
   "metadata": {
    "execution": {
     "iopub.execute_input": "2021-04-17T23:19:02.138916Z",
     "iopub.status.busy": "2021-04-17T23:19:02.137885Z",
     "iopub.status.idle": "2021-04-17T23:19:02.147409Z",
     "shell.execute_reply": "2021-04-17T23:19:02.146830Z"
    },
    "papermill": {
     "duration": 0.058195,
     "end_time": "2021-04-17T23:19:02.147557",
     "exception": false,
     "start_time": "2021-04-17T23:19:02.089362",
     "status": "completed"
    },
    "tags": []
   },
   "outputs": [
    {
     "name": "stdout",
     "output_type": "stream",
     "text": [
      "Only 1 value of Fare attribute is missing in test and only 2 values of Embarked attribute are missing in train\n"
     ]
    }
   ],
   "source": [
    "f=test.Fare.isnull().value_counts()[1]\n",
    "e=train.Embarked.isnull().value_counts()[1]\n",
    "print('Only {0} value of Fare attribute is missing in test and only {1} values of Embarked attribute are missing in train'.format(f,e))"
   ]
  },
  {
   "cell_type": "code",
   "execution_count": 17,
   "id": "changed-processing",
   "metadata": {
    "execution": {
     "iopub.execute_input": "2021-04-17T23:19:02.241658Z",
     "iopub.status.busy": "2021-04-17T23:19:02.241027Z",
     "iopub.status.idle": "2021-04-17T23:19:02.256186Z",
     "shell.execute_reply": "2021-04-17T23:19:02.256740Z"
    },
    "papermill": {
     "duration": 0.063433,
     "end_time": "2021-04-17T23:19:02.256923",
     "exception": false,
     "start_time": "2021-04-17T23:19:02.193490",
     "status": "completed"
    },
    "tags": []
   },
   "outputs": [
    {
     "data": {
      "text/html": [
       "<div>\n",
       "<style scoped>\n",
       "    .dataframe tbody tr th:only-of-type {\n",
       "        vertical-align: middle;\n",
       "    }\n",
       "\n",
       "    .dataframe tbody tr th {\n",
       "        vertical-align: top;\n",
       "    }\n",
       "\n",
       "    .dataframe thead th {\n",
       "        text-align: right;\n",
       "    }\n",
       "</style>\n",
       "<table border=\"1\" class=\"dataframe\">\n",
       "  <thead>\n",
       "    <tr style=\"text-align: right;\">\n",
       "      <th></th>\n",
       "      <th>PassengerId</th>\n",
       "      <th>Pclass</th>\n",
       "      <th>Name</th>\n",
       "      <th>Sex</th>\n",
       "      <th>Age</th>\n",
       "      <th>SibSp</th>\n",
       "      <th>Parch</th>\n",
       "      <th>Ticket</th>\n",
       "      <th>Fare</th>\n",
       "      <th>Cabin</th>\n",
       "      <th>Embarked</th>\n",
       "    </tr>\n",
       "  </thead>\n",
       "  <tbody>\n",
       "    <tr>\n",
       "      <th>152</th>\n",
       "      <td>1044</td>\n",
       "      <td>3</td>\n",
       "      <td>Storey, Mr. Thomas</td>\n",
       "      <td>male</td>\n",
       "      <td>60.5</td>\n",
       "      <td>0</td>\n",
       "      <td>0</td>\n",
       "      <td>3701</td>\n",
       "      <td>NaN</td>\n",
       "      <td>NaN</td>\n",
       "      <td>S</td>\n",
       "    </tr>\n",
       "  </tbody>\n",
       "</table>\n",
       "</div>"
      ],
      "text/plain": [
       "     PassengerId  Pclass                Name   Sex   Age  SibSp  Parch Ticket  \\\n",
       "152         1044       3  Storey, Mr. Thomas  male  60.5      0      0   3701   \n",
       "\n",
       "     Fare Cabin Embarked  \n",
       "152   NaN   NaN        S  "
      ]
     },
     "execution_count": 17,
     "metadata": {},
     "output_type": "execute_result"
    }
   ],
   "source": [
    "test[test['Fare'].isnull()]"
   ]
  },
  {
   "cell_type": "markdown",
   "id": "simple-adolescent",
   "metadata": {
    "papermill": {
     "duration": 0.045427,
     "end_time": "2021-04-17T23:19:02.347710",
     "exception": false,
     "start_time": "2021-04-17T23:19:02.302283",
     "status": "completed"
    },
    "tags": []
   },
   "source": [
    "* The passengers that has a missing value for fare is from class 3 and has 0 family members with him."
   ]
  },
  {
   "cell_type": "code",
   "execution_count": 18,
   "id": "handled-pipeline",
   "metadata": {
    "execution": {
     "iopub.execute_input": "2021-04-17T23:19:02.448590Z",
     "iopub.status.busy": "2021-04-17T23:19:02.447851Z",
     "iopub.status.idle": "2021-04-17T23:19:03.021572Z",
     "shell.execute_reply": "2021-04-17T23:19:03.020901Z"
    },
    "papermill": {
     "duration": 0.624756,
     "end_time": "2021-04-17T23:19:03.021725",
     "exception": false,
     "start_time": "2021-04-17T23:19:02.396969",
     "status": "completed"
    },
    "tags": []
   },
   "outputs": [
    {
     "data": {
      "image/png": "[encoded data removed]",
      "text/plain": [
       "<Figure size 432x216 with 2 Axes>"
      ]
     },
     "metadata": {
      "needs_background": "light"
     },
     "output_type": "display_data"
    }
   ],
   "source": [
    "g = sns.FacetGrid(train, col='Survived')\n",
    "g = g.map(sns.histplot, \"Fare\")"
   ]
  },
  {
   "cell_type": "markdown",
   "id": "compact-fault",
   "metadata": {
    "papermill": {
     "duration": 0.046477,
     "end_time": "2021-04-17T23:19:03.116170",
     "exception": false,
     "start_time": "2021-04-17T23:19:03.069693",
     "status": "completed"
    },
    "tags": []
   },
   "source": [
    "* Fare distribution is very skewed and might result in badbehaviour in our model. Transforming it into log seems like a good solution."
   ]
  },
  {
   "cell_type": "markdown",
   "id": "rising-personal",
   "metadata": {
    "papermill": {
     "duration": 0.046247,
     "end_time": "2021-04-17T23:19:03.209074",
     "exception": false,
     "start_time": "2021-04-17T23:19:03.162827",
     "status": "completed"
    },
    "tags": []
   },
   "source": [
    "### Ticket"
   ]
  },
  {
   "cell_type": "code",
   "execution_count": 19,
   "id": "designing-stewart",
   "metadata": {
    "execution": {
     "iopub.execute_input": "2021-04-17T23:19:03.307074Z",
     "iopub.status.busy": "2021-04-17T23:19:03.306387Z",
     "iopub.status.idle": "2021-04-17T23:19:03.309460Z",
     "shell.execute_reply": "2021-04-17T23:19:03.309970Z"
    },
    "papermill": {
     "duration": 0.055281,
     "end_time": "2021-04-17T23:19:03.310146",
     "exception": false,
     "start_time": "2021-04-17T23:19:03.254865",
     "status": "completed"
    },
    "tags": []
   },
   "outputs": [
    {
     "name": "stdout",
     "output_type": "stream",
     "text": [
      "There is 681 unique values of Ticket attribute\n"
     ]
    }
   ],
   "source": [
    "print('There is {0} unique values of Ticket attribute'.format(len(train.Ticket.unique())))"
   ]
  },
  {
   "cell_type": "markdown",
   "id": "historic-terrain",
   "metadata": {
    "papermill": {
     "duration": 0.04814,
     "end_time": "2021-04-17T23:19:03.405880",
     "exception": false,
     "start_time": "2021-04-17T23:19:03.357740",
     "status": "completed"
    },
    "tags": []
   },
   "source": [
    "* There is a large number of unique Tickets to analyse so we can create a ticket_freq attribute instead of Tickets.\n",
    "* Many passengers travelled along with groups. Those groups consist of friends, nannies, maids and etc. They weren't counted as family, but they used the same ticket."
   ]
  },
  {
   "cell_type": "markdown",
   "id": "affecting-administration",
   "metadata": {
    "papermill": {
     "duration": 0.046537,
     "end_time": "2021-04-17T23:19:03.499896",
     "exception": false,
     "start_time": "2021-04-17T23:19:03.453359",
     "status": "completed"
    },
    "tags": []
   },
   "source": [
    "### Name"
   ]
  },
  {
   "cell_type": "markdown",
   "id": "exact-coating",
   "metadata": {
    "papermill": {
     "duration": 0.047403,
     "end_time": "2021-04-17T23:19:03.594417",
     "exception": false,
     "start_time": "2021-04-17T23:19:03.547014",
     "status": "completed"
    },
    "tags": []
   },
   "source": [
    "* For the name attribute we can extract the title and analyse it better. We can extract family names also but that would take too much time so I am gonna stick to the title only"
   ]
  },
  {
   "cell_type": "code",
   "execution_count": 20,
   "id": "median-columbia",
   "metadata": {
    "execution": {
     "iopub.execute_input": "2021-04-17T23:19:03.692641Z",
     "iopub.status.busy": "2021-04-17T23:19:03.691886Z",
     "iopub.status.idle": "2021-04-17T23:19:03.703918Z",
     "shell.execute_reply": "2021-04-17T23:19:03.704416Z"
    },
    "papermill": {
     "duration": 0.063419,
     "end_time": "2021-04-17T23:19:03.704610",
     "exception": false,
     "start_time": "2021-04-17T23:19:03.641191",
     "status": "completed"
    },
    "tags": []
   },
   "outputs": [],
   "source": [
    "train_copy['Title'] = train_copy['Name'].str.split(', ', expand=True)[1].str.split('.', expand=True)[0]"
   ]
  },
  {
   "cell_type": "code",
   "execution_count": 21,
   "id": "controlled-holiday",
   "metadata": {
    "execution": {
     "iopub.execute_input": "2021-04-17T23:19:03.802854Z",
     "iopub.status.busy": "2021-04-17T23:19:03.802179Z",
     "iopub.status.idle": "2021-04-17T23:19:03.809984Z",
     "shell.execute_reply": "2021-04-17T23:19:03.810505Z"
    },
    "papermill": {
     "duration": 0.059563,
     "end_time": "2021-04-17T23:19:03.810762",
     "exception": false,
     "start_time": "2021-04-17T23:19:03.751199",
     "status": "completed"
    },
    "tags": []
   },
   "outputs": [
    {
     "data": {
      "text/plain": [
       "Mr              517\n",
       "Miss            182\n",
       "Mrs             125\n",
       "Master           40\n",
       "Dr                7\n",
       "Rev               6\n",
       "Col               2\n",
       "Mlle              2\n",
       "Major             2\n",
       "the Countess      1\n",
       "Don               1\n",
       "Ms                1\n",
       "Lady              1\n",
       "Jonkheer          1\n",
       "Sir               1\n",
       "Mme               1\n",
       "Capt              1\n",
       "Name: Title, dtype: int64"
      ]
     },
     "execution_count": 21,
     "metadata": {},
     "output_type": "execute_result"
    }
   ],
   "source": [
    "train_copy.Title.value_counts()"
   ]
  },
  {
   "cell_type": "markdown",
   "id": "creative-harvey",
   "metadata": {
    "papermill": {
     "duration": 0.046892,
     "end_time": "2021-04-17T23:19:03.905680",
     "exception": false,
     "start_time": "2021-04-17T23:19:03.858788",
     "status": "completed"
    },
    "tags": []
   },
   "source": [
    "* We can notice that we have 4 major categories and that all the others can be of these 4. In the feature engineering section we will create 4 categories only for these attribute"
   ]
  },
  {
   "cell_type": "markdown",
   "id": "active-sword",
   "metadata": {
    "papermill": {
     "duration": 0.047016,
     "end_time": "2021-04-17T23:19:03.999843",
     "exception": false,
     "start_time": "2021-04-17T23:19:03.952827",
     "status": "completed"
    },
    "tags": []
   },
   "source": [
    "## **2. Data Processing**\n",
    "### 2.1 Data Cleaning: Dealing with missing value\n",
    "We did notice in the previous section that some of the attributes are missing 1 or 2 values while other have more than 70% of missing values. So here we will deal with this missing data using diffirent approaches for each attribute.\n",
    "* One of the common approaches for filling missing numerical values is using the media. However, using the age might be a little bit tricky because the classes of passengers have different age ranges. So we will replace the missing values with the media age for each class, for both male and female passengers.\n",
    "* For the fare, we have only 1 missing value. We will fill it with the median 3rd class passangers that have no family with them\n",
    "* For Embarked we will use the most Frequent which is S\n",
    "* For the Cabin attribute we will deal with it in the feature engineering section because we are going to create a new attribute"
   ]
  },
  {
   "cell_type": "code",
   "execution_count": 22,
   "id": "aging-election",
   "metadata": {
    "execution": {
     "iopub.execute_input": "2021-04-17T23:19:04.106991Z",
     "iopub.status.busy": "2021-04-17T23:19:04.106140Z",
     "iopub.status.idle": "2021-04-17T23:19:04.109208Z",
     "shell.execute_reply": "2021-04-17T23:19:04.108588Z"
    },
    "papermill": {
     "duration": 0.059663,
     "end_time": "2021-04-17T23:19:04.109466",
     "exception": false,
     "start_time": "2021-04-17T23:19:04.049803",
     "status": "completed"
    },
    "tags": []
   },
   "outputs": [],
   "source": [
    "class Imputer(BaseEstimator, TransformerMixin):\n",
    "    def fit(self, X, y=None):\n",
    "        self.med_fare_ = X.groupby(['Pclass', 'Parch', 'SibSp']).Fare.median()[3][0][0]\n",
    "        self.most_freq_embarked = X.Embarked.value_counts().index[0]\n",
    "        return self\n",
    "    def transform(self, X, y=None):\n",
    "        #replacing missing values of Age with median Age for each class. 1 value for each Sex.\n",
    "        X.Age = X.groupby(['Sex', 'Pclass'])['Age'].apply(lambda z: z.fillna(z.median()))\n",
    "        # 1 only missing value for Fare. A Man in the third class with no family\n",
    "        X.Fare = X.Fare.fillna(self.med_fare_)\n",
    "        # filling Embarked with the most frequent \n",
    "        X.Embarked = X.Embarked.fillna(self.most_freq_embarked)\n",
    "        \n",
    "        return X\n",
    "        \n",
    "    "
   ]
  },
  {
   "cell_type": "markdown",
   "id": "threaded-sugar",
   "metadata": {
    "papermill": {
     "duration": 0.047898,
     "end_time": "2021-04-17T23:19:04.204802",
     "exception": false,
     "start_time": "2021-04-17T23:19:04.156904",
     "status": "completed"
    },
    "tags": []
   },
   "source": [
    "### 2.2 Feature Engineering:\n",
    "#### 2.2.1 Creating new features\n",
    "In this section we will transform existing attribute and create new ones:\n",
    "* First we will combine the Parch and SibSp to create a Relative on board feature.\n",
    "* Using the Relative On board feature we will create a family attribute which consists of: \n",
    " - Alone if the passenger has no relatives on board\n",
    " - Small if he have 1 or 2 family members on board\n",
    " - Medium if he have 3, 4 or 5 family members\n",
    " - Large if he has more than 6\n",
    "* Using the cabin feature we will create a deack attribute by extracting the first letter of the cabin name for each passenger.\n",
    "* we will transform the Age from continuous data into and attribute with 8 categories.\n",
    "* For Fare, Applying will reduce skewness distribution\n",
    "* Replace ticket ID by ticket frequency\n",
    "* Extract title attribute from Name and create IsMarried Attribute\n"
   ]
  },
  {
   "cell_type": "code",
   "execution_count": 23,
   "id": "accompanied-developer",
   "metadata": {
    "execution": {
     "iopub.execute_input": "2021-04-17T23:19:04.304867Z",
     "iopub.status.busy": "2021-04-17T23:19:04.304148Z",
     "iopub.status.idle": "2021-04-17T23:19:04.318458Z",
     "shell.execute_reply": "2021-04-17T23:19:04.319041Z"
    },
    "papermill": {
     "duration": 0.065672,
     "end_time": "2021-04-17T23:19:04.319226",
     "exception": false,
     "start_time": "2021-04-17T23:19:04.253554",
     "status": "completed"
    },
    "tags": []
   },
   "outputs": [],
   "source": [
    "class feature_engineering(BaseEstimator, TransformerMixin):\n",
    "    def fit(self, X, y=None):\n",
    "        return self\n",
    "    def transform(self, X, y=None):\n",
    "        # combining Sibsp and Parch to create relative on board then creating the family attribute\n",
    "        X[\"RelativesOnboard\"] = X[\"SibSp\"] + X[\"Parch\"]\n",
    "        X['Family'] = X['RelativesOnboard'].map({0: 'Alone', 1: 'Small', 2: 'Small', 3: 'Medium', 4: 'Medium', 5: 'Medium', 6: 'Large', 7: 'Large', 10: 'Large'})\n",
    "        # extracting the first letter of each cabin to create deck attribute\n",
    "        X[\"Deck\"] = pd.Series([i[0] if not pd.isnull(i) else 'X' for i in X['Cabin'] ])  \n",
    "        # regrouping deck catergories\n",
    "        X['Deck'] = X['Deck'].replace(['T', 'A', 'B', 'C'], 'ABC')\n",
    "        X['Deck'] = X['Deck'].replace(['D', 'E'], 'DE')\n",
    "        X['Deck'] = X['Deck'].replace(['F', 'G'], 'FG')\n",
    "        # we will transform the Age from continuous data into and attribute with 14 category.\n",
    "        X[\"Age\"] = pd.cut(X[\"Age\"],\n",
    "                               bins=[0., 5.0, 15.0, 25.0, 30.0, 40.0,50.0,60.0, np.inf],\n",
    "                               labels=[1, 2, 3, 4, 5,6,7,8])\n",
    "        # For Fare, Applying will reduce skewness distribution\n",
    "        X[\"Fare\"] = X[\"Fare\"].map(lambda i: np.log(i) if i > 0 else 0)\n",
    "        # Replace ticket ID by ticket frequency\n",
    "        X['Ticket_Frequency'] = X.groupby('Ticket')['Ticket'].transform('count')\n",
    "        # Extract title attribute from Name and create IsMarried Attribute\n",
    "        X['Title'] = X['Name'].str.split(', ', expand=True)[1].str.split('.', expand=True)[0]\n",
    "        X['Is_Married'] = 0\n",
    "        X['Is_Married'].loc[X['Title'] == 'Mrs'] = 1\n",
    "        X['Title'] = X['Title'].replace(['Miss', 'Mrs','Ms', 'Mlle', 'Lady', 'Mme', 'the Countess', 'Dona'], 'Miss/Mrs/Ms')\n",
    "        X['Title'] = X['Title'].replace(['Dr', 'Col', 'Major', 'Jonkheer', 'Capt', 'Sir', 'Don', 'Rev'], 'Dr/Military/Noble/Clergy')\n",
    "        return X"
   ]
  },
  {
   "cell_type": "markdown",
   "id": "contained-discrimination",
   "metadata": {
    "papermill": {
     "duration": 0.047919,
     "end_time": "2021-04-17T23:19:04.415593",
     "exception": false,
     "start_time": "2021-04-17T23:19:04.367674",
     "status": "completed"
    },
    "tags": []
   },
   "source": [
    "#### 2.2.2 Enconding\n",
    "In this section we will label encode the following features:\n",
    "* Age, Fare, Embarked, Sex, Title, Family, Title, RelativesOnboard, Deck.\n",
    "\n",
    "And use OneHotEncoding on the folliwing featues:\n",
    "* Pclass, Sex, Deck, Family, Title, Embarked"
   ]
  },
  {
   "cell_type": "code",
   "execution_count": 24,
   "id": "three-collins",
   "metadata": {
    "execution": {
     "iopub.execute_input": "2021-04-17T23:19:04.521385Z",
     "iopub.status.busy": "2021-04-17T23:19:04.519472Z",
     "iopub.status.idle": "2021-04-17T23:19:04.524554Z",
     "shell.execute_reply": "2021-04-17T23:19:04.523929Z"
    },
    "papermill": {
     "duration": 0.06187,
     "end_time": "2021-04-17T23:19:04.524701",
     "exception": false,
     "start_time": "2021-04-17T23:19:04.462831",
     "status": "completed"
    },
    "tags": []
   },
   "outputs": [],
   "source": [
    "class encoding(BaseEstimator, TransformerMixin):\n",
    "    def __init__(self):\n",
    "        self.ohe = OneHotEncoder()\n",
    "        self.le = LabelEncoder()\n",
    "    def fit(self, X, y=None):\n",
    "        return self\n",
    "    def transform(self, X, y=None):\n",
    "        #label encoding\n",
    "        for i in ['Age', 'Fare', 'Embarked', 'Sex', 'Title', 'Family', 'Title', 'RelativesOnboard', 'Deck']:\n",
    "            X[i] = self.le.fit_transform(X[i])\n",
    "        #OneHotEncoding\n",
    "        encoded_features = []\n",
    "        for cat in ['Deck', 'Age','Pclass', 'Sex', 'Title','Embarked','Family','RelativesOnboard']:\n",
    "            encoded_feat = self.ohe.fit_transform(X[cat].values.reshape(-1, 1)).toarray()\n",
    "            n = X[cat].nunique()\n",
    "            cols = ['{}_{}'.format(cat, n) for n in range(1, n + 1)]\n",
    "            encoded_df = pd.DataFrame(encoded_feat, columns=cols)\n",
    "            encoded_df.index = X.index\n",
    "            encoded_features.append(encoded_df)\n",
    "        X = pd.concat([X, *encoded_features[:8]], axis=1)\n",
    "        return X"
   ]
  },
  {
   "cell_type": "markdown",
   "id": "colored-report",
   "metadata": {
    "papermill": {
     "duration": 0.047701,
     "end_time": "2021-04-17T23:19:04.620833",
     "exception": false,
     "start_time": "2021-04-17T23:19:04.573132",
     "status": "completed"
    },
    "tags": []
   },
   "source": [
    "#### 2.3 Data processing pipeline"
   ]
  },
  {
   "cell_type": "code",
   "execution_count": 25,
   "id": "varied-jason",
   "metadata": {
    "execution": {
     "iopub.execute_input": "2021-04-17T23:19:04.723928Z",
     "iopub.status.busy": "2021-04-17T23:19:04.723227Z",
     "iopub.status.idle": "2021-04-17T23:19:04.730881Z",
     "shell.execute_reply": "2021-04-17T23:19:04.729954Z"
    },
    "papermill": {
     "duration": 0.062104,
     "end_time": "2021-04-17T23:19:04.731039",
     "exception": false,
     "start_time": "2021-04-17T23:19:04.668935",
     "status": "completed"
    },
    "tags": []
   },
   "outputs": [],
   "source": [
    "# This class is used after cleaning and feature engineering to drop unnecessary columns\n",
    "class Columns_drop(BaseEstimator, TransformerMixin):\n",
    "    def __init__(self, attribute_names):\n",
    "        self.attribute_names = attribute_names\n",
    "    def fit(self, X, y=None):\n",
    "        return self\n",
    "    def transform(self, X):\n",
    "        return X.drop(self.attribute_names, axis=1)"
   ]
  },
  {
   "cell_type": "code",
   "execution_count": 26,
   "id": "nonprofit-investing",
   "metadata": {
    "execution": {
     "iopub.execute_input": "2021-04-17T23:19:04.839836Z",
     "iopub.status.busy": "2021-04-17T23:19:04.838644Z",
     "iopub.status.idle": "2021-04-17T23:19:04.841999Z",
     "shell.execute_reply": "2021-04-17T23:19:04.841213Z"
    },
    "papermill": {
     "duration": 0.061222,
     "end_time": "2021-04-17T23:19:04.842228",
     "exception": false,
     "start_time": "2021-04-17T23:19:04.781006",
     "status": "completed"
    },
    "tags": []
   },
   "outputs": [],
   "source": [
    "dropped_columns = [ 'RelativesOnboard','Age', 'Sex','Deck', 'Family', 'Embarked', 'PassengerId', 'Pclass', 'Name', 'Ticket','Cabin','Embarked']\n"
   ]
  },
  {
   "cell_type": "code",
   "execution_count": 27,
   "id": "sufficient-background",
   "metadata": {
    "execution": {
     "iopub.execute_input": "2021-04-17T23:19:04.947155Z",
     "iopub.status.busy": "2021-04-17T23:19:04.946481Z",
     "iopub.status.idle": "2021-04-17T23:19:04.949931Z",
     "shell.execute_reply": "2021-04-17T23:19:04.949384Z"
    },
    "papermill": {
     "duration": 0.057459,
     "end_time": "2021-04-17T23:19:04.950091",
     "exception": false,
     "start_time": "2021-04-17T23:19:04.892632",
     "status": "completed"
    },
    "tags": []
   },
   "outputs": [],
   "source": [
    "processing_pipeline = Pipeline([\n",
    "    ('Filling missing values', Imputer()),\n",
    "    ('Feature Engineering', feature_engineering()),\n",
    "    ('Encoding', encoding()),\n",
    "    ('dropping useless columns', Columns_drop(dropped_columns) ),\n",
    "    \n",
    "])"
   ]
  },
  {
   "cell_type": "code",
   "execution_count": 28,
   "id": "paperback-executive",
   "metadata": {
    "execution": {
     "iopub.execute_input": "2021-04-17T23:19:05.066586Z",
     "iopub.status.busy": "2021-04-17T23:19:05.065721Z",
     "iopub.status.idle": "2021-04-17T23:19:05.184597Z",
     "shell.execute_reply": "2021-04-17T23:19:05.185350Z"
    },
    "papermill": {
     "duration": 0.186224,
     "end_time": "2021-04-17T23:19:05.185588",
     "exception": false,
     "start_time": "2021-04-17T23:19:04.999364",
     "status": "completed"
    },
    "tags": []
   },
   "outputs": [
    {
     "name": "stdout",
     "output_type": "stream",
     "text": [
      "Survived              1.000000\n",
      "Sex_1                 0.543351\n",
      "Title_3               0.540769\n",
      "Is_Married            0.339040\n",
      "Fare                  0.333943\n",
      "Pclass_1              0.285904\n",
      "Family_4              0.238059\n",
      "Deck_2                0.213430\n",
      "Deck_1                0.202551\n",
      "Embarked_1            0.168240\n",
      "RelativesOnboard_2    0.163157\n",
      "Age_1                 0.150304\n",
      "RelativesOnboard_3    0.143869\n",
      "RelativesOnboard_4    0.128347\n",
      "Pclass_2              0.093349\n",
      "Title_2               0.085221\n",
      "Parch                 0.081629\n",
      "Age_5                 0.068219\n",
      "Deck_3                0.058617\n",
      "Ticket_Frequency      0.038247\n",
      "Age_2                 0.034183\n",
      "Family_3              0.014687\n",
      "Age_7                 0.009569\n",
      "Embarked_2            0.003650\n",
      "Age_4                 0.002193\n",
      "Age_6                -0.000079\n",
      "RelativesOnboard_7   -0.012134\n",
      "Title_1              -0.031348\n",
      "SibSp                -0.035322\n",
      "RelativesOnboard_5   -0.049466\n",
      "Age_8                -0.051224\n",
      "RelativesOnboard_8   -0.064988\n",
      "RelativesOnboard_9   -0.070234\n",
      "Family_2             -0.078203\n",
      "RelativesOnboard_6   -0.080968\n",
      "Age_3                -0.126765\n",
      "Embarked_3           -0.149683\n",
      "Family_1             -0.203367\n",
      "RelativesOnboard_1   -0.203367\n",
      "Deck_4               -0.316912\n",
      "Pclass_3             -0.322308\n",
      "Title                -0.402510\n",
      "Sex_2                -0.543351\n",
      "Title_4              -0.549199\n",
      "Name: Survived, dtype: float64\n"
     ]
    },
    {
     "name": "stderr",
     "output_type": "stream",
     "text": [
      "/opt/conda/lib/python3.7/site-packages/pandas/core/indexing.py:1637: SettingWithCopyWarning: \n",
      "A value is trying to be set on a copy of a slice from a DataFrame\n",
      "\n",
      "See the caveats in the documentation: https://pandas.pydata.org/pandas-docs/stable/user_guide/indexing.html#returning-a-view-versus-a-copy\n",
      "  self._setitem_single_block(indexer, value, name)\n",
      "/opt/conda/lib/python3.7/site-packages/pandas/core/indexing.py:1637: SettingWithCopyWarning: \n",
      "A value is trying to be set on a copy of a slice from a DataFrame\n",
      "\n",
      "See the caveats in the documentation: https://pandas.pydata.org/pandas-docs/stable/user_guide/indexing.html#returning-a-view-versus-a-copy\n",
      "  self._setitem_single_block(indexer, value, name)\n"
     ]
    }
   ],
   "source": [
    "X_train= train.copy()\n",
    "X_test = test.copy()\n",
    "X_train = processing_pipeline.fit_transform(X_train)\n",
    "corr(X_train)\n",
    "X_train = X_train.drop('Survived',axis=1 )\n",
    "y_train = train['Survived']\n",
    "X_test = processing_pipeline.fit_transform(test)\n"
   ]
  },
  {
   "cell_type": "markdown",
   "id": "theoretical-killing",
   "metadata": {
    "papermill": {
     "duration": 0.048573,
     "end_time": "2021-04-17T23:19:05.284058",
     "exception": false,
     "start_time": "2021-04-17T23:19:05.235485",
     "status": "completed"
    },
    "tags": []
   },
   "source": [
    "## **3. Modeling**\n",
    "#### 3.1 Evaluating models and making a choice\n",
    "In this section we evaluate the performance of some well known models on the data and chose those who have a good accuracy. We will cross validation on 10 folds to meausure the performance on train data. "
   ]
  },
  {
   "cell_type": "code",
   "execution_count": 29,
   "id": "noticed-hobby",
   "metadata": {
    "execution": {
     "iopub.execute_input": "2021-04-17T23:19:05.389253Z",
     "iopub.status.busy": "2021-04-17T23:19:05.388218Z",
     "iopub.status.idle": "2021-04-17T23:19:05.391508Z",
     "shell.execute_reply": "2021-04-17T23:19:05.390848Z"
    },
    "papermill": {
     "duration": 0.058773,
     "end_time": "2021-04-17T23:19:05.391660",
     "exception": false,
     "start_time": "2021-04-17T23:19:05.332887",
     "status": "completed"
    },
    "tags": []
   },
   "outputs": [],
   "source": [
    "from sklearn.ensemble import RandomForestClassifier, GradientBoostingClassifier, ExtraTreesClassifier, VotingClassifier\n",
    "from sklearn.tree import DecisionTreeClassifier\n",
    "from sklearn.svm import SVC\n",
    "from sklearn.model_selection import GridSearchCV, cross_val_score, StratifiedKFold\n"
   ]
  },
  {
   "cell_type": "code",
   "execution_count": 30,
   "id": "brief-litigation",
   "metadata": {
    "execution": {
     "iopub.execute_input": "2021-04-17T23:19:05.500700Z",
     "iopub.status.busy": "2021-04-17T23:19:05.499975Z",
     "iopub.status.idle": "2021-04-17T23:19:11.210173Z",
     "shell.execute_reply": "2021-04-17T23:19:11.209523Z"
    },
    "papermill": {
     "duration": 5.769079,
     "end_time": "2021-04-17T23:19:11.210328",
     "exception": false,
     "start_time": "2021-04-17T23:19:05.441249",
     "status": "completed"
    },
    "tags": []
   },
   "outputs": [
    {
     "data": {
      "text/html": [
       "<div>\n",
       "<style scoped>\n",
       "    .dataframe tbody tr th:only-of-type {\n",
       "        vertical-align: middle;\n",
       "    }\n",
       "\n",
       "    .dataframe tbody tr th {\n",
       "        vertical-align: top;\n",
       "    }\n",
       "\n",
       "    .dataframe thead th {\n",
       "        text-align: right;\n",
       "    }\n",
       "</style>\n",
       "<table border=\"1\" class=\"dataframe\">\n",
       "  <thead>\n",
       "    <tr style=\"text-align: right;\">\n",
       "      <th></th>\n",
       "      <th>Algorithm</th>\n",
       "      <th>CrossValMeans</th>\n",
       "      <th>CrossValerrors</th>\n",
       "    </tr>\n",
       "  </thead>\n",
       "  <tbody>\n",
       "    <tr>\n",
       "      <th>0</th>\n",
       "      <td>SVC</td>\n",
       "      <td>0.682497</td>\n",
       "      <td>0.057079</td>\n",
       "    </tr>\n",
       "    <tr>\n",
       "      <th>1</th>\n",
       "      <td>DecisionTree</td>\n",
       "      <td>0.812609</td>\n",
       "      <td>0.024790</td>\n",
       "    </tr>\n",
       "    <tr>\n",
       "      <th>2</th>\n",
       "      <td>RandomForest</td>\n",
       "      <td>0.813720</td>\n",
       "      <td>0.041042</td>\n",
       "    </tr>\n",
       "    <tr>\n",
       "      <th>3</th>\n",
       "      <td>GradientBoosting</td>\n",
       "      <td>0.833945</td>\n",
       "      <td>0.044643</td>\n",
       "    </tr>\n",
       "    <tr>\n",
       "      <th>4</th>\n",
       "      <td>ExtraTrees</td>\n",
       "      <td>0.800262</td>\n",
       "      <td>0.028012</td>\n",
       "    </tr>\n",
       "  </tbody>\n",
       "</table>\n",
       "</div>"
      ],
      "text/plain": [
       "          Algorithm  CrossValMeans  CrossValerrors\n",
       "0               SVC       0.682497        0.057079\n",
       "1      DecisionTree       0.812609        0.024790\n",
       "2      RandomForest       0.813720        0.041042\n",
       "3  GradientBoosting       0.833945        0.044643\n",
       "4        ExtraTrees       0.800262        0.028012"
      ]
     },
     "execution_count": 30,
     "metadata": {},
     "output_type": "execute_result"
    }
   ],
   "source": [
    "kfold = StratifiedKFold(n_splits=10)\n",
    "random_state = 42\n",
    "classifiers = []\n",
    "classifiers.append(SVC(random_state=random_state))\n",
    "classifiers.append(DecisionTreeClassifier(random_state=random_state))\n",
    "classifiers.append(RandomForestClassifier(random_state=random_state))\n",
    "classifiers.append(GradientBoostingClassifier(random_state=random_state))\n",
    "classifiers.append(ExtraTreesClassifier())\n",
    "cv_results = []\n",
    "for classifier in classifiers :\n",
    "    cv_results.append(cross_val_score(classifier, X_train, y = y_train, scoring = \"accuracy\", cv = kfold, n_jobs=4))\n",
    "    \n",
    "cv_means = []\n",
    "cv_std = []\n",
    "for cv_result in cv_results:\n",
    "    cv_means.append(cv_result.mean())\n",
    "    cv_std.append(cv_result.std())\n",
    "\n",
    "cv_res = pd.DataFrame({\"Algorithm\":[\"SVC\",\"DecisionTree\",\"RandomForest\",\"GradientBoosting\",\"ExtraTrees\"],\"CrossValMeans\":cv_means,\"CrossValerrors\": cv_std})\n",
    "cv_res"
   ]
  },
  {
   "cell_type": "markdown",
   "id": "likely-sister",
   "metadata": {
    "papermill": {
     "duration": 0.048777,
     "end_time": "2021-04-17T23:19:11.308384",
     "exception": false,
     "start_time": "2021-04-17T23:19:11.259607",
     "status": "completed"
    },
    "tags": []
   },
   "source": [
    "RandomForest and Gradient boosting are promissing models so we will continue with them."
   ]
  },
  {
   "cell_type": "markdown",
   "id": "piano-violence",
   "metadata": {
    "papermill": {
     "duration": 0.049015,
     "end_time": "2021-04-17T23:19:11.406755",
     "exception": false,
     "start_time": "2021-04-17T23:19:11.357740",
     "status": "completed"
    },
    "tags": []
   },
   "source": [
    "#### 3.2 Hypter parameter tunning and combining models"
   ]
  },
  {
   "cell_type": "code",
   "execution_count": 31,
   "id": "proud-transportation",
   "metadata": {
    "execution": {
     "iopub.execute_input": "2021-04-17T23:19:11.514244Z",
     "iopub.status.busy": "2021-04-17T23:19:11.513483Z",
     "iopub.status.idle": "2021-04-17T23:19:11.515680Z",
     "shell.execute_reply": "2021-04-17T23:19:11.516177Z"
    },
    "papermill": {
     "duration": 0.060748,
     "end_time": "2021-04-17T23:19:11.516358",
     "exception": false,
     "start_time": "2021-04-17T23:19:11.455610",
     "status": "completed"
    },
    "tags": []
   },
   "outputs": [],
   "source": [
    "# Number of trees in random forest\n",
    "n_estimators = [int(x) for x in np.linspace(start = 100, stop = 300, num = 3)]\n",
    "# Number of features to consider at every split\n",
    "max_features = [ 20 ,'auto', 'log2']\n",
    "# Maximum number of levels in tree\n",
    "max_depth = [int(x) for x in np.linspace(10, 30, num = 3)]\n",
    "max_depth.append(None)\n",
    "# Minimum number of samples required to split a node\n",
    "min_samples_split = [2, 10]\n",
    "# Minimum number of samples required at each leaf node\n",
    "min_samples_leaf = [1, 2, 4]\n",
    "# Create the random grid\n",
    "rf_param_grid = {'n_estimators': n_estimators,\n",
    "               'max_features': max_features,\n",
    "               'max_depth': max_depth,\n",
    "               'min_samples_split': min_samples_split,\n",
    "               'min_samples_leaf': min_samples_leaf}\n"
   ]
  },
  {
   "cell_type": "code",
   "execution_count": 32,
   "id": "circular-dominant",
   "metadata": {
    "execution": {
     "iopub.execute_input": "2021-04-17T23:19:11.619308Z",
     "iopub.status.busy": "2021-04-17T23:19:11.618522Z",
     "iopub.status.idle": "2021-04-17T23:19:11.625081Z",
     "shell.execute_reply": "2021-04-17T23:19:11.625570Z"
    },
    "papermill": {
     "duration": 0.059984,
     "end_time": "2021-04-17T23:19:11.625764",
     "exception": false,
     "start_time": "2021-04-17T23:19:11.565780",
     "status": "completed"
    },
    "tags": []
   },
   "outputs": [],
   "source": [
    "# The number of boosting stages to perform\n",
    "n_estimators = [int(x) for x in np.linspace(start = 100, stop = 200, num = 3)]\n",
    "# Number of features to consider at every split\n",
    "max_features = [ 20 ,'auto', 'log2']\n",
    "# Maximum number of levels in tree\n",
    "max_depth = [int(x) for x in np.linspace(10, 30, num = 3)]\n",
    "max_depth.append(None)\n",
    "# Minimum number of samples required to split a node\n",
    "min_samples_split = [2,  10]\n",
    "# Minimum number of samples required at each leaf node\n",
    "min_samples_leaf = [1, 2, 4]\n",
    "# The function to measure the quality of a split\n",
    "# Create the random grid\n",
    "gb_param_grid = {'n_estimators': n_estimators,\n",
    "               'max_features': max_features,\n",
    "               'max_depth': max_depth,\n",
    "               'min_samples_split': min_samples_split,\n",
    "               'min_samples_leaf': min_samples_leaf,}\n"
   ]
  },
  {
   "cell_type": "code",
   "execution_count": 33,
   "id": "vanilla-values",
   "metadata": {
    "execution": {
     "iopub.execute_input": "2021-04-17T23:19:11.730631Z",
     "iopub.status.busy": "2021-04-17T23:19:11.729631Z",
     "iopub.status.idle": "2021-04-17T23:26:08.942504Z",
     "shell.execute_reply": "2021-04-17T23:26:08.943049Z"
    },
    "papermill": {
     "duration": 417.267361,
     "end_time": "2021-04-17T23:26:08.943237",
     "exception": false,
     "start_time": "2021-04-17T23:19:11.675876",
     "status": "completed"
    },
    "tags": []
   },
   "outputs": [
    {
     "name": "stdout",
     "output_type": "stream",
     "text": [
      "Fitting 10 folds for each of 216 candidates, totalling 2160 fits\n"
     ]
    },
    {
     "data": {
      "text/plain": [
       "0.8417852684144819"
      ]
     },
     "execution_count": 33,
     "metadata": {},
     "output_type": "execute_result"
    }
   ],
   "source": [
    "# Random forest Hyper parameter tuning\n",
    "rf = RandomForestClassifier()\n",
    "\n",
    "#fitting\n",
    "Grid_s_rf = GridSearchCV(rf, param_grid = rf_param_grid, cv=kfold, scoring=\"accuracy\", n_jobs= -1, verbose = True)\n",
    "Grid_s_rf.fit(X_train,y_train)\n",
    "RFC_best = Grid_s_rf.best_estimator_\n",
    "\n",
    "# Best score\n",
    "Grid_s_rf.best_score_"
   ]
  },
  {
   "cell_type": "code",
   "execution_count": 34,
   "id": "overall-inspection",
   "metadata": {
    "execution": {
     "iopub.execute_input": "2021-04-17T23:26:09.065847Z",
     "iopub.status.busy": "2021-04-17T23:26:09.064864Z",
     "iopub.status.idle": "2021-04-17T23:43:15.549168Z",
     "shell.execute_reply": "2021-04-17T23:43:15.549723Z"
    },
    "papermill": {
     "duration": 1026.546477,
     "end_time": "2021-04-17T23:43:15.549907",
     "exception": false,
     "start_time": "2021-04-17T23:26:09.003430",
     "status": "completed"
    },
    "tags": []
   },
   "outputs": [
    {
     "name": "stdout",
     "output_type": "stream",
     "text": [
      "Fitting 10 folds for each of 216 candidates, totalling 2160 fits\n"
     ]
    },
    {
     "data": {
      "text/plain": [
       "0.8272034956304619"
      ]
     },
     "execution_count": 34,
     "metadata": {},
     "output_type": "execute_result"
    }
   ],
   "source": [
    "# Gradient boosting Hyper parameter tuning\n",
    "gbc = GradientBoostingClassifier()\n",
    "\n",
    "#fitting\n",
    "Grid_s_gb = GridSearchCV(gbc,param_grid = gb_param_grid, cv=kfold, scoring=\"accuracy\", n_jobs= -1, verbose = 1)\n",
    "Grid_s_gb.fit(X_train,y_train)\n",
    "GBC_best = Grid_s_gb.best_estimator_\n",
    "\n",
    "# Best score\n",
    "Grid_s_gb.best_score_\n"
   ]
  },
  {
   "cell_type": "markdown",
   "id": "hungry-hawaii",
   "metadata": {
    "papermill": {
     "duration": 0.121633,
     "end_time": "2021-04-17T23:43:15.723438",
     "exception": false,
     "start_time": "2021-04-17T23:43:15.601805",
     "status": "completed"
    },
    "tags": []
   },
   "source": [
    "For each model we have 216 candidates, fiited for 10 folds resulting in 2160 fils in total. we will chose the best 2 models and then combine them using VotingClassifier."
   ]
  },
  {
   "cell_type": "code",
   "execution_count": 35,
   "id": "moral-express",
   "metadata": {
    "execution": {
     "iopub.execute_input": "2021-04-17T23:43:15.830330Z",
     "iopub.status.busy": "2021-04-17T23:43:15.829560Z",
     "iopub.status.idle": "2021-04-17T23:43:16.164346Z",
     "shell.execute_reply": "2021-04-17T23:43:16.163693Z"
    },
    "papermill": {
     "duration": 0.389365,
     "end_time": "2021-04-17T23:43:16.164495",
     "exception": false,
     "start_time": "2021-04-17T23:43:15.775130",
     "status": "completed"
    },
    "tags": []
   },
   "outputs": [],
   "source": [
    "#Combining 2 models\n",
    "votingC = VotingClassifier(estimators=[('rfc', RFC_best),('gbc',GBC_best)], voting='soft', n_jobs=-1)\n",
    "votingC = votingC.fit(X_train, y_train)"
   ]
  },
  {
   "cell_type": "markdown",
   "id": "preceding-malta",
   "metadata": {
    "papermill": {
     "duration": 0.051281,
     "end_time": "2021-04-17T23:43:16.267438",
     "exception": false,
     "start_time": "2021-04-17T23:43:16.216157",
     "status": "completed"
    },
    "tags": []
   },
   "source": [
    "## **4. Submitting results**\n"
   ]
  },
  {
   "cell_type": "code",
   "execution_count": 36,
   "id": "faced-enhancement",
   "metadata": {
    "execution": {
     "iopub.execute_input": "2021-04-17T23:43:16.378642Z",
     "iopub.status.busy": "2021-04-17T23:43:16.377993Z",
     "iopub.status.idle": "2021-04-17T23:43:16.410769Z",
     "shell.execute_reply": "2021-04-17T23:43:16.410120Z"
    },
    "papermill": {
     "duration": 0.092055,
     "end_time": "2021-04-17T23:43:16.410920",
     "exception": false,
     "start_time": "2021-04-17T23:43:16.318865",
     "status": "completed"
    },
    "tags": []
   },
   "outputs": [],
   "source": [
    "predictions = votingC.predict(X_test)\n",
    "submission = pd.DataFrame({'PassengerId': test.PassengerId,\n",
    "                           'Survived': predictions})\n",
    "submission.to_csv('submission.csv', index = False)"
   ]
  },
  {
   "cell_type": "code",
   "execution_count": null,
   "id": "distinguished-extension",
   "metadata": {
    "papermill": {
     "duration": 0.051398,
     "end_time": "2021-04-17T23:43:16.514109",
     "exception": false,
     "start_time": "2021-04-17T23:43:16.462711",
     "status": "completed"
    },
    "tags": []
   },
   "outputs": [],
   "source": []
  }
 ],
 "metadata": {
  "kernelspec": {
   "display_name": "Python 3",
   "language": "python",
   "name": "python3"
  },
  "language_info": {
   "codemirror_mode": {
    "name": "ipython",
    "version": 3
   },
   "file_extension": ".py",
   "mimetype": "text/x-python",
   "name": "python",
   "nbconvert_exporter": "python",
   "pygments_lexer": "ipython3",
   "version": "3.7.9"
  },
  "papermill": {
   "default_parameters": {},
   "duration": 1466.972259,
   "end_time": "2021-04-17T23:43:17.677769",
   "environment_variables": {},
   "exception": null,
   "input_path": "__notebook__.ipynb",
   "output_path": "__notebook__.ipynb",
   "parameters": {},
   "start_time": "2021-04-17T23:18:50.705510",
   "version": "2.3.2"
  }
 },
 "nbformat": 4,
 "nbformat_minor": 5
}
